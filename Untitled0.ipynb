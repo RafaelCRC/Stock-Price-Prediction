{
  "nbformat": 4,
  "nbformat_minor": 0,
  "metadata": {
    "colab": {
      "name": "Untitled0.ipynb",
      "provenance": [],
      "collapsed_sections": [],
      "mount_file_id": "1_qzbj5rP7dw34X58UVWy0dZbn3DKoHpe",
      "authorship_tag": "ABX9TyOrMDkMO1DGmRoXJ5Nl7+2m",
      "include_colab_link": true
    },
    "kernelspec": {
      "name": "python3",
      "display_name": "Python 3"
    },
    "language_info": {
      "name": "python"
    },
    "accelerator": "GPU"
  },
  "cells": [
    {
      "cell_type": "markdown",
      "metadata": {
        "id": "view-in-github",
        "colab_type": "text"
      },
      "source": [
        "<a href=\"https://colab.research.google.com/github/RafaelCRC/Stock-Price-Prediction/blob/main/Untitled0.ipynb\" target=\"_parent\"><img src=\"https://colab.research.google.com/assets/colab-badge.svg\" alt=\"Open In Colab\"/></a>"
      ]
    },
    {
      "cell_type": "code",
      "metadata": {
        "id": "eFbGphclFVFX"
      },
      "source": [
        "import math\n",
        "\n",
        "import numpy as np\n",
        "import pandas_datareader as web\n",
        "import pandas as pd\n",
        "from sklearn.preprocessing import MinMaxScaler\n",
        "from keras.models import sequential\n",
        "from keras.layers import Dense, LSTM\n",
        "import matplotlib.pyplot as plt\n",
        "from tensorflow.python.keras.layers import Dense, LSTM\n",
        "from tensorflow.python.keras import Sequential\n",
        "plt.style.use('fivethirtyeight')"
      ],
      "execution_count": 21,
      "outputs": []
    },
    {
      "cell_type": "code",
      "metadata": {
        "colab": {
          "base_uri": "https://localhost:8080/",
          "height": 450
        },
        "id": "-HnUvh9iGPpw",
        "outputId": "df010d98-440c-4439-b4ce-c87db22237d1"
      },
      "source": [
        "df = pd.read_csv('/content/database.csv')\n",
        "df = df[(df['Date'] > '2000-11-05') & (df['Date'] < '2020-11-04')]\n",
        "df.dropna(subset = [\"Close\"], inplace=True)\n",
        "df['Date']= pd.to_datetime(df['Date'], errors='coerce')\n",
        "df = df.set_index('Date')\n",
        "\n",
        "df"
      ],
      "execution_count": 5,
      "outputs": [
        {
          "output_type": "execute_result",
          "data": {
            "text/html": [
              "<div>\n",
              "<style scoped>\n",
              "    .dataframe tbody tr th:only-of-type {\n",
              "        vertical-align: middle;\n",
              "    }\n",
              "\n",
              "    .dataframe tbody tr th {\n",
              "        vertical-align: top;\n",
              "    }\n",
              "\n",
              "    .dataframe thead th {\n",
              "        text-align: right;\n",
              "    }\n",
              "</style>\n",
              "<table border=\"1\" class=\"dataframe\">\n",
              "  <thead>\n",
              "    <tr style=\"text-align: right;\">\n",
              "      <th></th>\n",
              "      <th>Open</th>\n",
              "      <th>High</th>\n",
              "      <th>Low</th>\n",
              "      <th>Close</th>\n",
              "      <th>Adj Close</th>\n",
              "      <th>Volume;;;</th>\n",
              "    </tr>\n",
              "    <tr>\n",
              "      <th>Date</th>\n",
              "      <th></th>\n",
              "      <th></th>\n",
              "      <th></th>\n",
              "      <th></th>\n",
              "      <th></th>\n",
              "      <th></th>\n",
              "    </tr>\n",
              "  </thead>\n",
              "  <tbody>\n",
              "    <tr>\n",
              "      <th>2000-11-06</th>\n",
              "      <td>1.993330</td>\n",
              "      <td>2.083330</td>\n",
              "      <td>1.950000</td>\n",
              "      <td>2.006670</td>\n",
              "      <td>1.085900</td>\n",
              "      <td>365400;;;</td>\n",
              "    </tr>\n",
              "    <tr>\n",
              "      <th>2000-11-07</th>\n",
              "      <td>1.950000</td>\n",
              "      <td>2.016670</td>\n",
              "      <td>1.936670</td>\n",
              "      <td>1.953330</td>\n",
              "      <td>1.057035</td>\n",
              "      <td>113400;;;</td>\n",
              "    </tr>\n",
              "    <tr>\n",
              "      <th>2000-11-08</th>\n",
              "      <td>2.016670</td>\n",
              "      <td>2.016670</td>\n",
              "      <td>1.936670</td>\n",
              "      <td>1.983330</td>\n",
              "      <td>1.073270</td>\n",
              "      <td>117900;;;</td>\n",
              "    </tr>\n",
              "    <tr>\n",
              "      <th>2000-11-09</th>\n",
              "      <td>1.933330</td>\n",
              "      <td>2.083330</td>\n",
              "      <td>1.933330</td>\n",
              "      <td>2.036670</td>\n",
              "      <td>1.102134</td>\n",
              "      <td>131400;;;</td>\n",
              "    </tr>\n",
              "    <tr>\n",
              "      <th>2000-11-10</th>\n",
              "      <td>2.036670</td>\n",
              "      <td>2.050000</td>\n",
              "      <td>2.000000</td>\n",
              "      <td>2.030000</td>\n",
              "      <td>1.098525</td>\n",
              "      <td>95400;;;</td>\n",
              "    </tr>\n",
              "    <tr>\n",
              "      <th>...</th>\n",
              "      <td>...</td>\n",
              "      <td>...</td>\n",
              "      <td>...</td>\n",
              "      <td>...</td>\n",
              "      <td>...</td>\n",
              "      <td>...</td>\n",
              "    </tr>\n",
              "    <tr>\n",
              "      <th>2020-10-27</th>\n",
              "      <td>33.790001</td>\n",
              "      <td>34.099998</td>\n",
              "      <td>32.540001</td>\n",
              "      <td>32.779999</td>\n",
              "      <td>32.779999</td>\n",
              "      <td>15328900;;;</td>\n",
              "    </tr>\n",
              "    <tr>\n",
              "      <th>2020-10-28</th>\n",
              "      <td>31.950001</td>\n",
              "      <td>32.040001</td>\n",
              "      <td>31.100000</td>\n",
              "      <td>31.139999</td>\n",
              "      <td>31.139999</td>\n",
              "      <td>15388500;;;</td>\n",
              "    </tr>\n",
              "    <tr>\n",
              "      <th>2020-10-29</th>\n",
              "      <td>31.120001</td>\n",
              "      <td>31.299999</td>\n",
              "      <td>30.040001</td>\n",
              "      <td>30.959999</td>\n",
              "      <td>30.959999</td>\n",
              "      <td>19448700;;;</td>\n",
              "    </tr>\n",
              "    <tr>\n",
              "      <th>2020-10-30</th>\n",
              "      <td>30.690001</td>\n",
              "      <td>30.870001</td>\n",
              "      <td>29.610001</td>\n",
              "      <td>29.799999</td>\n",
              "      <td>29.799999</td>\n",
              "      <td>21981900;;;</td>\n",
              "    </tr>\n",
              "    <tr>\n",
              "      <th>2020-11-03</th>\n",
              "      <td>30.420000</td>\n",
              "      <td>30.760000</td>\n",
              "      <td>29.900000</td>\n",
              "      <td>30.100000</td>\n",
              "      <td>30.100000</td>\n",
              "      <td>17154400;;;</td>\n",
              "    </tr>\n",
              "  </tbody>\n",
              "</table>\n",
              "<p>5006 rows × 6 columns</p>\n",
              "</div>"
            ],
            "text/plain": [
              "                 Open       High        Low      Close  Adj Close    Volume;;;\n",
              "Date                                                                          \n",
              "2000-11-06   1.993330   2.083330   1.950000   2.006670   1.085900    365400;;;\n",
              "2000-11-07   1.950000   2.016670   1.936670   1.953330   1.057035    113400;;;\n",
              "2000-11-08   2.016670   2.016670   1.936670   1.983330   1.073270    117900;;;\n",
              "2000-11-09   1.933330   2.083330   1.933330   2.036670   1.102134    131400;;;\n",
              "2000-11-10   2.036670   2.050000   2.000000   2.030000   1.098525     95400;;;\n",
              "...               ...        ...        ...        ...        ...          ...\n",
              "2020-10-27  33.790001  34.099998  32.540001  32.779999  32.779999  15328900;;;\n",
              "2020-10-28  31.950001  32.040001  31.100000  31.139999  31.139999  15388500;;;\n",
              "2020-10-29  31.120001  31.299999  30.040001  30.959999  30.959999  19448700;;;\n",
              "2020-10-30  30.690001  30.870001  29.610001  29.799999  29.799999  21981900;;;\n",
              "2020-11-03  30.420000  30.760000  29.900000  30.100000  30.100000  17154400;;;\n",
              "\n",
              "[5006 rows x 6 columns]"
            ]
          },
          "metadata": {},
          "execution_count": 5
        }
      ]
    },
    {
      "cell_type": "code",
      "metadata": {
        "colab": {
          "base_uri": "https://localhost:8080/"
        },
        "id": "F-kFkqC0NTsh",
        "outputId": "d3960fb1-2260-43f8-b3a3-bfce5da368c9"
      },
      "source": [
        "df.shape"
      ],
      "execution_count": 6,
      "outputs": [
        {
          "output_type": "execute_result",
          "data": {
            "text/plain": [
              "(5006, 6)"
            ]
          },
          "metadata": {},
          "execution_count": 6
        }
      ]
    },
    {
      "cell_type": "code",
      "metadata": {
        "colab": {
          "base_uri": "https://localhost:8080/",
          "height": 338
        },
        "id": "Ci4bw7BvO59u",
        "outputId": "285f4cef-86dd-4100-ab9e-00d60650e75d"
      },
      "source": [
        "plt.figure(figsize=(16,8))\n",
        "plt.title('Histórico Preço Fechamento')\n",
        "plt.plot(df['Close'])\n",
        "plt.xlabel('Date', fontsize=18)\n",
        "plt.ylabel('Preço Fechamento', fontsize=18)\n",
        "plt.show()"
      ],
      "execution_count": 7,
      "outputs": [
        {
          "output_type": "display_data",
          "data": {
            "image/png": "[encoded data removed]",
            "text/plain": [
              "<Figure size 1152x576 with 1 Axes>"
            ]
          },
          "metadata": {}
        }
      ]
    },
    {
      "cell_type": "code",
      "metadata": {
        "colab": {
          "base_uri": "https://localhost:8080/",
          "height": 450
        },
        "id": "aGu00379ZoVA",
        "outputId": "cc16cddb-c197-4292-e9dd-d980db06f3a5"
      },
      "source": [
        "data = df.filter(['Close'])\n",
        "dataset = data.values\n",
        "training_data_len = math.ceil(len(dataset) * .8)\n",
        "\n",
        "data"
      ],
      "execution_count": 8,
      "outputs": [
        {
          "output_type": "execute_result",
          "data": {
            "text/html": [
              "<div>\n",
              "<style scoped>\n",
              "    .dataframe tbody tr th:only-of-type {\n",
              "        vertical-align: middle;\n",
              "    }\n",
              "\n",
              "    .dataframe tbody tr th {\n",
              "        vertical-align: top;\n",
              "    }\n",
              "\n",
              "    .dataframe thead th {\n",
              "        text-align: right;\n",
              "    }\n",
              "</style>\n",
              "<table border=\"1\" class=\"dataframe\">\n",
              "  <thead>\n",
              "    <tr style=\"text-align: right;\">\n",
              "      <th></th>\n",
              "      <th>Close</th>\n",
              "    </tr>\n",
              "    <tr>\n",
              "      <th>Date</th>\n",
              "      <th></th>\n",
              "    </tr>\n",
              "  </thead>\n",
              "  <tbody>\n",
              "    <tr>\n",
              "      <th>2000-11-06</th>\n",
              "      <td>2.006670</td>\n",
              "    </tr>\n",
              "    <tr>\n",
              "      <th>2000-11-07</th>\n",
              "      <td>1.953330</td>\n",
              "    </tr>\n",
              "    <tr>\n",
              "      <th>2000-11-08</th>\n",
              "      <td>1.983330</td>\n",
              "    </tr>\n",
              "    <tr>\n",
              "      <th>2000-11-09</th>\n",
              "      <td>2.036670</td>\n",
              "    </tr>\n",
              "    <tr>\n",
              "      <th>2000-11-10</th>\n",
              "      <td>2.030000</td>\n",
              "    </tr>\n",
              "    <tr>\n",
              "      <th>...</th>\n",
              "      <td>...</td>\n",
              "    </tr>\n",
              "    <tr>\n",
              "      <th>2020-10-27</th>\n",
              "      <td>32.779999</td>\n",
              "    </tr>\n",
              "    <tr>\n",
              "      <th>2020-10-28</th>\n",
              "      <td>31.139999</td>\n",
              "    </tr>\n",
              "    <tr>\n",
              "      <th>2020-10-29</th>\n",
              "      <td>30.959999</td>\n",
              "    </tr>\n",
              "    <tr>\n",
              "      <th>2020-10-30</th>\n",
              "      <td>29.799999</td>\n",
              "    </tr>\n",
              "    <tr>\n",
              "      <th>2020-11-03</th>\n",
              "      <td>30.100000</td>\n",
              "    </tr>\n",
              "  </tbody>\n",
              "</table>\n",
              "<p>5006 rows × 1 columns</p>\n",
              "</div>"
            ],
            "text/plain": [
              "                Close\n",
              "Date                 \n",
              "2000-11-06   2.006670\n",
              "2000-11-07   1.953330\n",
              "2000-11-08   1.983330\n",
              "2000-11-09   2.036670\n",
              "2000-11-10   2.030000\n",
              "...               ...\n",
              "2020-10-27  32.779999\n",
              "2020-10-28  31.139999\n",
              "2020-10-29  30.959999\n",
              "2020-10-30  29.799999\n",
              "2020-11-03  30.100000\n",
              "\n",
              "[5006 rows x 1 columns]"
            ]
          },
          "metadata": {},
          "execution_count": 8
        }
      ]
    },
    {
      "cell_type": "code",
      "metadata": {
        "colab": {
          "base_uri": "https://localhost:8080/"
        },
        "id": "bE9eX8AMaHxp",
        "outputId": "84d61d00-8e08-4d2c-ad4f-c69383e4aa38"
      },
      "source": [
        "scaler = MinMaxScaler(feature_range=(0,1))\n",
        "scaled_data = scaler.fit_transform(dataset)\n",
        "\n",
        "scaled_data"
      ],
      "execution_count": 9,
      "outputs": [
        {
          "output_type": "execute_result",
          "data": {
            "text/plain": [
              "array([[0.00218934],\n",
              "       [0.0011884 ],\n",
              "       [0.00175136],\n",
              "       ...,\n",
              "       [0.5455057 ],\n",
              "       [0.52373802],\n",
              "       [0.52936761]])"
            ]
          },
          "metadata": {},
          "execution_count": 9
        }
      ]
    },
    {
      "cell_type": "code",
      "metadata": {
        "colab": {
          "base_uri": "https://localhost:8080/"
        },
        "id": "ehiO9WYWbL6l",
        "outputId": "d9d6288e-d9b7-47d2-83fa-6b32ed6dd829"
      },
      "source": [
        "train_data = scaled_data[0:training_data_len , :]\n",
        "x_train = []\n",
        "y_train = []\n",
        "\n",
        "for i in range(60, len(train_data)):\n",
        "  x_train.append(train_data[i-60:i, 0])\n",
        "  y_train.append(train_data[i, 0])\n",
        "  if i<= 61:\n",
        "    print(x_train)\n",
        "    print(y_train)\n",
        "    print()"
      ],
      "execution_count": 10,
      "outputs": [
        {
          "output_type": "stream",
          "name": "stdout",
          "text": [
            "[array([2.18934134e-03, 1.18840308e-03, 1.75136048e-03, 2.75229874e-03,\n",
            "       2.62713455e-03, 3.50290861e-03, 3.50290861e-03, 3.50290861e-03,\n",
            "       3.19009195e-03, 2.31431788e-03, 3.25258022e-03, 2.68962282e-03,\n",
            "       2.06417714e-03, 2.00168887e-03, 1.18840308e-03, 5.00469131e-04,\n",
            "       8.13098142e-04, 8.13098142e-04, 1.25164196e-04, 0.00000000e+00,\n",
            "       6.24882717e-05, 2.68962282e-03, 2.00168887e-03, 1.50121974e-03,\n",
            "       2.06417714e-03, 1.81403640e-03, 1.81403640e-03, 4.81647589e-03,\n",
            "       3.94070182e-03, 2.62713455e-03, 2.75229874e-03, 2.87727529e-03,\n",
            "       2.62713455e-03, 1.43873147e-03, 2.06417714e-03, 2.06417714e-03,\n",
            "       2.06417714e-03, 2.43948208e-03, 1.87652468e-03, 1.87652468e-03,\n",
            "       1.87652468e-03, 4.12835429e-03, 6.44267217e-03, 6.19253143e-03,\n",
            "       6.50534810e-03, 8.94483017e-03, 1.17596172e-02, 1.39487709e-02,\n",
            "       1.27603678e-02, 1.33233252e-02, 1.51373616e-02, 1.48870332e-02,\n",
            "       1.48870332e-02, 1.55126665e-02, 1.51998499e-02, 1.48870332e-02,\n",
            "       1.73265153e-02, 1.55126665e-02, 1.55126665e-02, 1.58252956e-02])]\n",
            "[0.016826233814974667]\n",
            "\n",
            "[array([2.18934134e-03, 1.18840308e-03, 1.75136048e-03, 2.75229874e-03,\n",
            "       2.62713455e-03, 3.50290861e-03, 3.50290861e-03, 3.50290861e-03,\n",
            "       3.19009195e-03, 2.31431788e-03, 3.25258022e-03, 2.68962282e-03,\n",
            "       2.06417714e-03, 2.00168887e-03, 1.18840308e-03, 5.00469131e-04,\n",
            "       8.13098142e-04, 8.13098142e-04, 1.25164196e-04, 0.00000000e+00,\n",
            "       6.24882717e-05, 2.68962282e-03, 2.00168887e-03, 1.50121974e-03,\n",
            "       2.06417714e-03, 1.81403640e-03, 1.81403640e-03, 4.81647589e-03,\n",
            "       3.94070182e-03, 2.62713455e-03, 2.75229874e-03, 2.87727529e-03,\n",
            "       2.62713455e-03, 1.43873147e-03, 2.06417714e-03, 2.06417714e-03,\n",
            "       2.06417714e-03, 2.43948208e-03, 1.87652468e-03, 1.87652468e-03,\n",
            "       1.87652468e-03, 4.12835429e-03, 6.44267217e-03, 6.19253143e-03,\n",
            "       6.50534810e-03, 8.94483017e-03, 1.17596172e-02, 1.39487709e-02,\n",
            "       1.27603678e-02, 1.33233252e-02, 1.51373616e-02, 1.48870332e-02,\n",
            "       1.48870332e-02, 1.55126665e-02, 1.51998499e-02, 1.48870332e-02,\n",
            "       1.73265153e-02, 1.55126665e-02, 1.55126665e-02, 1.58252956e-02]), array([1.18840308e-03, 1.75136048e-03, 2.75229874e-03, 2.62713455e-03,\n",
            "       3.50290861e-03, 3.50290861e-03, 3.50290861e-03, 3.19009195e-03,\n",
            "       2.31431788e-03, 3.25258022e-03, 2.68962282e-03, 2.06417714e-03,\n",
            "       2.00168887e-03, 1.18840308e-03, 5.00469131e-04, 8.13098142e-04,\n",
            "       8.13098142e-04, 1.25164196e-04, 0.00000000e+00, 6.24882717e-05,\n",
            "       2.68962282e-03, 2.00168887e-03, 1.50121974e-03, 2.06417714e-03,\n",
            "       1.81403640e-03, 1.81403640e-03, 4.81647589e-03, 3.94070182e-03,\n",
            "       2.62713455e-03, 2.75229874e-03, 2.87727529e-03, 2.62713455e-03,\n",
            "       1.43873147e-03, 2.06417714e-03, 2.06417714e-03, 2.06417714e-03,\n",
            "       2.43948208e-03, 1.87652468e-03, 1.87652468e-03, 1.87652468e-03,\n",
            "       4.12835429e-03, 6.44267217e-03, 6.19253143e-03, 6.50534810e-03,\n",
            "       8.94483017e-03, 1.17596172e-02, 1.39487709e-02, 1.27603678e-02,\n",
            "       1.33233252e-02, 1.51373616e-02, 1.48870332e-02, 1.48870332e-02,\n",
            "       1.55126665e-02, 1.51998499e-02, 1.48870332e-02, 1.73265153e-02,\n",
            "       1.55126665e-02, 1.55126665e-02, 1.58252956e-02, 1.68262338e-02])]\n",
            "[0.016826233814974667, 0.015762807280915746]\n",
            "\n"
          ]
        }
      ]
    },
    {
      "cell_type": "code",
      "metadata": {
        "id": "rfgN0IsMgYH3"
      },
      "source": [
        "x_train, y_train = np.array(x_train), np.array(y_train)"
      ],
      "execution_count": 11,
      "outputs": []
    },
    {
      "cell_type": "code",
      "metadata": {
        "colab": {
          "base_uri": "https://localhost:8080/"
        },
        "id": "y0S_1xOhqhOq",
        "outputId": "bcd04b6d-bd65-481d-f1ff-e0bd4451e096"
      },
      "source": [
        "x_train = np.reshape(x_train, (x_train.shape[0], x_train.shape[1], 1))\n",
        "x_train.shape"
      ],
      "execution_count": 15,
      "outputs": [
        {
          "output_type": "execute_result",
          "data": {
            "text/plain": [
              "(3945, 60, 1)"
            ]
          },
          "metadata": {},
          "execution_count": 15
        }
      ]
    },
    {
      "cell_type": "code",
      "metadata": {
        "id": "ckQMd44ErPN6"
      },
      "source": [
        "model = Sequential()\n",
        "model.add(LSTM(50, return_sequences=True, input_shape= (x_train.shape[1], 1)))\n",
        "model.add(LSTM(50, return_sequences=False))\n",
        "model.add(Dense(25))\n",
        "model.add(Dense(1))"
      ],
      "execution_count": 22,
      "outputs": []
    }
  ]
}